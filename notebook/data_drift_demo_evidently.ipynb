{
  "cells": [
    {
      "cell_type": "markdown",
      "metadata": {
        "id": "puwa5xJOMGiz"
      },
      "source": [
        "# Data Drift Dashboard for Boston Dataset"
      ]
    },
    {
      "cell_type": "code",
      "execution_count": null,
      "metadata": {
        "colab": {
          "base_uri": "https://localhost:8080/",
          "height": 869
        },
        "id": "dw5KLo_yMgvu",
        "outputId": "5b2915ef-583c-4046-838f-c1db40ec0747"
      },
      "outputs": [],
      "source": [
        "# ! pip install --upgrade evidently\n",
        "\n",
        "# ! pip install numpy"
      ]
    },
    {
      "cell_type": "code",
      "execution_count": null,
      "metadata": {
        "id": "drBFdAOKMGi3"
      },
      "outputs": [],
      "source": [
        "import pandas as pd\n",
        "\n",
        "from evidently.dashboard import Dashboard\n",
        "from evidently.tabs import DataDriftTab, CatTargetDriftTab\n",
        "\n",
        "from evidently.model_profile import Profile\n",
        "from evidently.profile_sections import DataDriftProfileSection\n",
        "from evidently import ColumnMapping"
      ]
    },
    {
      "cell_type": "markdown",
      "metadata": {
        "id": "O0D2yIteMGi4"
      },
      "source": [
        "## Boston Data"
      ]
    },
    {
      "cell_type": "code",
      "execution_count": null,
      "metadata": {
        "id": "KhWtiGVqj9pN"
      },
      "outputs": [],
      "source": [
        "import pandas as pd\n",
        "import numpy as np\n",
        "\n",
        "data_url = \"https://raw.githubusercontent.com/selva86/datasets/master/BostonHousing.csv\"\n",
        "boston_frame = pd.read_csv(data_url)\n"
      ]
    },
    {
      "cell_type": "code",
      "execution_count": null,
      "metadata": {
        "colab": {
          "base_uri": "https://localhost:8080/",
          "height": 206
        },
        "id": "I90EyDpTkCjc",
        "outputId": "1f541264-ac0b-41ba-9259-84f7269295b2"
      },
      "outputs": [],
      "source": [
        "boston_frame.head()"
      ]
    },
    {
      "cell_type": "code",
      "execution_count": null,
      "metadata": {
        "colab": {
          "base_uri": "https://localhost:8080/"
        },
        "id": "YvQK5OI0k9jd",
        "outputId": "d99de0a4-4c24-4988-8578-56aebcac8ad4"
      },
      "outputs": [],
      "source": [
        "boston_frame.info()"
      ]
    },
    {
      "cell_type": "markdown",
      "metadata": {
        "id": "QamNUe7dMGi6"
      },
      "source": [
        "## Data Drift Dashboard"
      ]
    },
    {
      "cell_type": "code",
      "execution_count": null,
      "metadata": {
        "colab": {
          "base_uri": "https://localhost:8080/"
        },
        "id": "jYSbpX-8mCEl",
        "outputId": "dda97018-2497-4d78-89c6-58701d3d6c71"
      },
      "outputs": [],
      "source": [
        "boston_frame.shape"
      ]
    },
    {
      "cell_type": "code",
      "execution_count": null,
      "metadata": {
        "colab": {
          "base_uri": "https://localhost:8080/",
          "height": 423
        },
        "id": "mXqJWCs2l7se",
        "outputId": "ee1b18c3-a403-4bff-9bef-27b1208db365"
      },
      "outputs": [],
      "source": [
        "boston_frame[:200]"
      ]
    },
    {
      "cell_type": "code",
      "execution_count": null,
      "metadata": {
        "colab": {
          "base_uri": "https://localhost:8080/",
          "height": 423
        },
        "id": "9irPpx3Tl_K9",
        "outputId": "fcbb2771-cc91-484a-cbe5-3de0e7a176a3"
      },
      "outputs": [],
      "source": [
        "boston_frame[200:]"
      ]
    },
    {
      "cell_type": "code",
      "execution_count": null,
      "metadata": {
        "id": "shl_TClsMGi7"
      },
      "outputs": [],
      "source": [
        "boston_data_drift_dashboard = Dashboard(tabs=[DataDriftTab()])\n",
        "boston_data_drift_dashboard.calculate(boston_frame[:200], boston_frame[200:])"
      ]
    },
    {
      "cell_type": "code",
      "execution_count": null,
      "metadata": {
        "colab": {
          "base_uri": "https://localhost:8080/",
          "height": 1000
        },
        "id": "475mXsKkMGi7",
        "outputId": "adf8aaea-ab81-4e05-d1af-7cb67fa29ce2"
      },
      "outputs": [],
      "source": [
        "boston_data_drift_dashboard.show()"
      ]
    },
    {
      "cell_type": "code",
      "execution_count": null,
      "metadata": {
        "id": "ecdg92PmMGi8"
      },
      "outputs": [],
      "source": [
        "boston_data_drift_dashboard.save('boston_data_drift_no_mapping.html')"
      ]
    },
    {
      "cell_type": "markdown",
      "metadata": {
        "id": "IXNsC3BXMGi9"
      },
      "source": [
        "## Data Drift Dashboard with Column Mapping"
      ]
    },
    {
      "cell_type": "code",
      "execution_count": null,
      "metadata": {
        "colab": {
          "base_uri": "https://localhost:8080/"
        },
        "id": "t_dW1vnQomFg",
        "outputId": "381f706c-a3b0-4545-8b9c-c702139d9e5f"
      },
      "outputs": [],
      "source": [
        "boston_frame.columns"
      ]
    },
    {
      "cell_type": "code",
      "execution_count": null,
      "metadata": {
        "id": "Sp3Sp_04MGi9"
      },
      "outputs": [],
      "source": [
        "column_mapping = {}\n",
        "\n",
        "# column_mapping['target'] = 'target'\n",
        "# column_mapping['prediction'] = None\n",
        "# column_mapping['datetime'] = None\n",
        "\n",
        "column_mapping['numerical_features'] = ['crim', 'zn', 'indus', 'nox', 'rm', 'age', 'dis', 'tax',\n",
        "                                        'ptratio', 'b', 'lstat']\n",
        "\n",
        "column_mapping['categorical_features'] = ['chas', 'rad']"
      ]
    },
    {
      "cell_type": "code",
      "execution_count": null,
      "metadata": {
        "colab": {
          "base_uri": "https://localhost:8080/"
        },
        "id": "NlZfX_bzpD4A",
        "outputId": "e78f2b18-350d-45e2-b146-7e91fea8a982"
      },
      "outputs": [],
      "source": [
        "column_mapping"
      ]
    },
    {
      "cell_type": "code",
      "execution_count": null,
      "metadata": {
        "colab": {
          "base_uri": "https://localhost:8080/",
          "height": 329
        },
        "id": "puSNtCndMGi9",
        "outputId": "29b1b6c2-dd37-40d5-8fb4-62c643f59af8"
      },
      "outputs": [],
      "source": [
        "boston_data_drift_dashboard.calculate(boston_frame[:200], boston_frame[200:], column_mapping = column_mapping)"
      ]
    },
    {
      "cell_type": "code",
      "execution_count": null,
      "metadata": {
        "colab": {
          "base_uri": "https://localhost:8080/",
          "height": 1000
        },
        "id": "E02k-q5PMGi-",
        "outputId": "b528d625-10b2-4ec4-f85d-0c98f5be743f"
      },
      "outputs": [],
      "source": [
        "boston_data_drift_dashboard.show()"
      ]
    },
    {
      "cell_type": "code",
      "execution_count": null,
      "metadata": {
        "id": "PvY_SJPUMGi-"
      },
      "outputs": [],
      "source": [
        "#boston_data_drift_dashboard.save('boston_data_drift_with_mapping.html')"
      ]
    },
    {
      "cell_type": "markdown",
      "metadata": {
        "id": "pody6hp8MGi-"
      },
      "source": [
        "## Data Drift Profile"
      ]
    },
    {
      "cell_type": "code",
      "execution_count": null,
      "metadata": {
        "id": "rW2Vw9L5MGi-"
      },
      "outputs": [],
      "source": [
        "boston_data_drift_profile = Profile(sections=[DataDriftProfileSection()])"
      ]
    },
    {
      "cell_type": "code",
      "execution_count": null,
      "metadata": {
        "id": "GjxtAfinMGi_"
      },
      "outputs": [],
      "source": [
        "boston_data_drift_profile.calculate(boston_frame[:200], boston_frame[200:])"
      ]
    },
    {
      "cell_type": "code",
      "execution_count": null,
      "metadata": {
        "colab": {
          "base_uri": "https://localhost:8080/",
          "height": 179
        },
        "id": "vU9Cwfl-MGi_",
        "outputId": "484e2930-b49e-40fb-8dfa-cbac0425cf9b"
      },
      "outputs": [],
      "source": [
        "boston_data_drift_profile.json()"
      ]
    },
    {
      "cell_type": "code",
      "execution_count": null,
      "metadata": {
        "id": "FbSA6f7XSU9i"
      },
      "outputs": [],
      "source": []
    }
  ],
  "metadata": {
    "colab": {
      "name": "boston_data_drift.ipynb",
      "provenance": []
    },
    "kernelspec": {
      "display_name": "visa",
      "language": "python",
      "name": "python3"
    },
    "language_info": {
      "codemirror_mode": {
        "name": "ipython",
        "version": 3
      },
      "file_extension": ".py",
      "mimetype": "text/x-python",
      "name": "python",
      "nbconvert_exporter": "python",
      "pygments_lexer": "ipython3",
      "version": "3.8.20"
    }
  },
  "nbformat": 4,
  "nbformat_minor": 0
}
